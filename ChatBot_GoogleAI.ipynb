{
  "nbformat": 4,
  "nbformat_minor": 0,
  "metadata": {
    "colab": {
      "provenance": [],
      "toc_visible": true,
      "authorship_tag": "ABX9TyOh7uL27qbWJIUH8hDKBHgz",
      "include_colab_link": true
    },
    "kernelspec": {
      "name": "python3",
      "display_name": "Python 3"
    },
    "language_info": {
      "name": "python"
    },
    "widgets": {
      "application/vnd.jupyter.widget-state+json": {
        "743a142ba7ae49368a95208e108a7001": {
          "model_module": "@jupyter-widgets/output",
          "model_name": "OutputModel",
          "model_module_version": "1.0.0",
          "state": {
            "_dom_classes": [],
            "_model_module": "@jupyter-widgets/output",
            "_model_module_version": "1.0.0",
            "_model_name": "OutputModel",
            "_view_count": null,
            "_view_module": "@jupyter-widgets/output",
            "_view_module_version": "1.0.0",
            "_view_name": "OutputView",
            "layout": "IPY_MODEL_6f75c91cfe1d47e9881289a5d6705e5a",
            "msg_id": "",
            "outputs": []
          }
        },
        "6f75c91cfe1d47e9881289a5d6705e5a": {
          "model_module": "@jupyter-widgets/base",
          "model_name": "LayoutModel",
          "model_module_version": "1.2.0",
          "state": {
            "_model_module": "@jupyter-widgets/base",
            "_model_module_version": "1.2.0",
            "_model_name": "LayoutModel",
            "_view_count": null,
            "_view_module": "@jupyter-widgets/base",
            "_view_module_version": "1.2.0",
            "_view_name": "LayoutView",
            "align_content": null,
            "align_items": null,
            "align_self": null,
            "border": null,
            "bottom": null,
            "display": null,
            "flex": null,
            "flex_flow": null,
            "grid_area": null,
            "grid_auto_columns": null,
            "grid_auto_flow": null,
            "grid_auto_rows": null,
            "grid_column": null,
            "grid_gap": null,
            "grid_row": null,
            "grid_template_areas": null,
            "grid_template_columns": null,
            "grid_template_rows": null,
            "height": null,
            "justify_content": null,
            "justify_items": null,
            "left": null,
            "margin": null,
            "max_height": null,
            "max_width": null,
            "min_height": null,
            "min_width": null,
            "object_fit": null,
            "object_position": null,
            "order": null,
            "overflow": null,
            "overflow_x": null,
            "overflow_y": null,
            "padding": null,
            "right": null,
            "top": null,
            "visibility": null,
            "width": null
          }
        },
        "af778cd4e2a34e6f89f8a924e32665bb": {
          "model_module": "@jupyter-widgets/controls",
          "model_name": "TextModel",
          "model_module_version": "1.5.0",
          "state": {
            "_dom_classes": [],
            "_model_module": "@jupyter-widgets/controls",
            "_model_module_version": "1.5.0",
            "_model_name": "TextModel",
            "_view_count": null,
            "_view_module": "@jupyter-widgets/controls",
            "_view_module_version": "1.5.0",
            "_view_name": "TextView",
            "continuous_update": true,
            "description": "",
            "description_tooltip": null,
            "disabled": false,
            "layout": "IPY_MODEL_335e4f2fa0f6416fa5bd0707f3588f69",
            "placeholder": "Type your message here",
            "style": "IPY_MODEL_5b1004015a01459daf13de2e35a2bb69",
            "value": ""
          }
        },
        "335e4f2fa0f6416fa5bd0707f3588f69": {
          "model_module": "@jupyter-widgets/base",
          "model_name": "LayoutModel",
          "model_module_version": "1.2.0",
          "state": {
            "_model_module": "@jupyter-widgets/base",
            "_model_module_version": "1.2.0",
            "_model_name": "LayoutModel",
            "_view_count": null,
            "_view_module": "@jupyter-widgets/base",
            "_view_module_version": "1.2.0",
            "_view_name": "LayoutView",
            "align_content": null,
            "align_items": null,
            "align_self": null,
            "border": null,
            "bottom": null,
            "display": null,
            "flex": null,
            "flex_flow": null,
            "grid_area": null,
            "grid_auto_columns": null,
            "grid_auto_flow": null,
            "grid_auto_rows": null,
            "grid_column": null,
            "grid_gap": null,
            "grid_row": null,
            "grid_template_areas": null,
            "grid_template_columns": null,
            "grid_template_rows": null,
            "height": null,
            "justify_content": null,
            "justify_items": null,
            "left": null,
            "margin": null,
            "max_height": null,
            "max_width": null,
            "min_height": null,
            "min_width": null,
            "object_fit": null,
            "object_position": null,
            "order": null,
            "overflow": null,
            "overflow_x": null,
            "overflow_y": null,
            "padding": null,
            "right": null,
            "top": null,
            "visibility": null,
            "width": null
          }
        },
        "5b1004015a01459daf13de2e35a2bb69": {
          "model_module": "@jupyter-widgets/controls",
          "model_name": "DescriptionStyleModel",
          "model_module_version": "1.5.0",
          "state": {
            "_model_module": "@jupyter-widgets/controls",
            "_model_module_version": "1.5.0",
            "_model_name": "DescriptionStyleModel",
            "_view_count": null,
            "_view_module": "@jupyter-widgets/base",
            "_view_module_version": "1.2.0",
            "_view_name": "StyleView",
            "description_width": ""
          }
        },
        "170a44836ea447fb802bf17733f30c7f": {
          "model_module": "@jupyter-widgets/controls",
          "model_name": "ButtonModel",
          "model_module_version": "1.5.0",
          "state": {
            "_dom_classes": [],
            "_model_module": "@jupyter-widgets/controls",
            "_model_module_version": "1.5.0",
            "_model_name": "ButtonModel",
            "_view_count": null,
            "_view_module": "@jupyter-widgets/controls",
            "_view_module_version": "1.5.0",
            "_view_name": "ButtonView",
            "button_style": "",
            "description": "Send",
            "disabled": false,
            "icon": "",
            "layout": "IPY_MODEL_7e184aac111d4ac1ad597415efa172b5",
            "style": "IPY_MODEL_1893d21c24b2424794744ab2e07ee1f9",
            "tooltip": ""
          }
        },
        "7e184aac111d4ac1ad597415efa172b5": {
          "model_module": "@jupyter-widgets/base",
          "model_name": "LayoutModel",
          "model_module_version": "1.2.0",
          "state": {
            "_model_module": "@jupyter-widgets/base",
            "_model_module_version": "1.2.0",
            "_model_name": "LayoutModel",
            "_view_count": null,
            "_view_module": "@jupyter-widgets/base",
            "_view_module_version": "1.2.0",
            "_view_name": "LayoutView",
            "align_content": null,
            "align_items": null,
            "align_self": null,
            "border": null,
            "bottom": null,
            "display": null,
            "flex": null,
            "flex_flow": null,
            "grid_area": null,
            "grid_auto_columns": null,
            "grid_auto_flow": null,
            "grid_auto_rows": null,
            "grid_column": null,
            "grid_gap": null,
            "grid_row": null,
            "grid_template_areas": null,
            "grid_template_columns": null,
            "grid_template_rows": null,
            "height": null,
            "justify_content": null,
            "justify_items": null,
            "left": null,
            "margin": null,
            "max_height": null,
            "max_width": null,
            "min_height": null,
            "min_width": null,
            "object_fit": null,
            "object_position": null,
            "order": null,
            "overflow": null,
            "overflow_x": null,
            "overflow_y": null,
            "padding": null,
            "right": null,
            "top": null,
            "visibility": null,
            "width": null
          }
        },
        "1893d21c24b2424794744ab2e07ee1f9": {
          "model_module": "@jupyter-widgets/controls",
          "model_name": "ButtonStyleModel",
          "model_module_version": "1.5.0",
          "state": {
            "_model_module": "@jupyter-widgets/controls",
            "_model_module_version": "1.5.0",
            "_model_name": "ButtonStyleModel",
            "_view_count": null,
            "_view_module": "@jupyter-widgets/base",
            "_view_module_version": "1.2.0",
            "_view_name": "StyleView",
            "button_color": null,
            "font_weight": ""
          }
        }
      }
    }
  },
  "cells": [
    {
      "cell_type": "markdown",
      "metadata": {
        "id": "view-in-github",
        "colab_type": "text"
      },
      "source": [
        "<a href=\"https://colab.research.google.com/github/nathalia3003/First-ChatBot/blob/main/ChatBot_GoogleAI.ipynb\" target=\"_parent\"><img src=\"https://colab.research.google.com/assets/colab-badge.svg\" alt=\"Open In Colab\"/></a>"
      ]
    },
    {
      "cell_type": "markdown",
      "source": [
        "### **ChatBot Google AI**\n",
        "\n",
        "Use this chatBot to interact with Google AI\n",
        "\n",
        "🤖`Type yor message:`\n",
        "\n",
        "  `What is the capital of Norway? `🧚                                             \n",
        "  \n",
        " `Response: The capital of Norway is Oslo `🤖\n",
        "\n"
      ],
      "metadata": {
        "id": "dyzOtrqu2BsQ"
      }
    },
    {
      "cell_type": "markdown",
      "source": [
        "\n",
        "**1. Installing SDK from Python for the Gemini API**\n"
      ],
      "metadata": {
        "id": "MsM_FvdTjIH8"
      }
    },
    {
      "cell_type": "code",
      "execution_count": 25,
      "metadata": {
        "id": "uS8dpqyuiih3"
      },
      "outputs": [],
      "source": [
        "!pip install -q -U google-generativeai"
      ]
    },
    {
      "cell_type": "markdown",
      "source": [
        "**2. Importing the packages**"
      ],
      "metadata": {
        "id": "fBOPauhB8rAf"
      }
    },
    {
      "cell_type": "code",
      "source": [
        "import google.generativeai as genai\n",
        "import ipywidgets as widgets\n",
        "from google.colab import userdata"
      ],
      "metadata": {
        "id": "XegKjOSZjlqJ"
      },
      "execution_count": 26,
      "outputs": []
    },
    {
      "cell_type": "markdown",
      "source": [
        "**3. Configuring API key**"
      ],
      "metadata": {
        "id": "UWWdz8-AHH0U"
      }
    },
    {
      "cell_type": "code",
      "source": [
        "api_key = userdata.get('secret_key')\n",
        "genai.configure(api_key = api_key)"
      ],
      "metadata": {
        "id": "rsL3p8OOi8EK"
      },
      "execution_count": 27,
      "outputs": []
    },
    {
      "cell_type": "markdown",
      "source": [
        "**4. Listing available models**"
      ],
      "metadata": {
        "id": "WHMixCh_Hr8G"
      }
    },
    {
      "cell_type": "code",
      "source": [
        "for m in genai.list_models():\n",
        "  if 'generateContent' in m.supported_generation_methods:\n",
        "    print(m.name)"
      ],
      "metadata": {
        "colab": {
          "base_uri": "https://localhost:8080/",
          "height": 138
        },
        "id": "ppxkFQd9j_oJ",
        "outputId": "289fffa0-9a4f-4033-e78b-0bc9071e3311"
      },
      "execution_count": 28,
      "outputs": [
        {
          "output_type": "stream",
          "name": "stdout",
          "text": [
            "models/gemini-1.0-pro\n",
            "models/gemini-1.0-pro-001\n",
            "models/gemini-1.0-pro-latest\n",
            "models/gemini-1.0-pro-vision-latest\n",
            "models/gemini-1.5-pro-latest\n",
            "models/gemini-pro\n",
            "models/gemini-pro-vision\n"
          ]
        }
      ]
    },
    {
      "cell_type": "markdown",
      "source": [
        "**5. Model output settings**\n",
        "\n",
        "**Temperature:** This controls the randomness and creativity of the output"
      ],
      "metadata": {
        "id": "JH3CFJr_Ixxw"
      }
    },
    {
      "cell_type": "code",
      "source": [
        "generation_config = {\n",
        "    'candidate_count': 1,\n",
        "    'temperature': 0.5,\n",
        "}"
      ],
      "metadata": {
        "id": "kfFZgDqUk8LF"
      },
      "execution_count": 29,
      "outputs": []
    },
    {
      "cell_type": "markdown",
      "source": [
        "**6. Safety settings**"
      ],
      "metadata": {
        "id": "lxWLdh3uKB7q"
      }
    },
    {
      "cell_type": "code",
      "source": [
        "safety_settings = {\n",
        "    'harassment': 'BLOCK_MEDIUM_AND_ABOVE',\n",
        "    'hate': 'BLOCK_MEDIUM_AND_ABOVE',\n",
        "    'sexual': 'BLOCK_MEDIUM_AND_ABOVE',\n",
        "    'dangerous': 'BLOCK_MEDIUM_AND_ABOVE',\n",
        "}"
      ],
      "metadata": {
        "id": "3_vvSgeVpesH"
      },
      "execution_count": 30,
      "outputs": []
    },
    {
      "cell_type": "markdown",
      "source": [
        "**7. Generating model**"
      ],
      "metadata": {
        "id": "TQQgAiveK196"
      }
    },
    {
      "cell_type": "code",
      "source": [
        "model = genai.GenerativeModel(model_name ='gemini-pro', safety_settings = safety_settings, generation_config = generation_config )"
      ],
      "metadata": {
        "id": "J516Qdkuqt4t"
      },
      "execution_count": 31,
      "outputs": []
    },
    {
      "cell_type": "markdown",
      "source": [
        "**8. Starting a chat with history**"
      ],
      "metadata": {
        "id": "NIs3CwPSLkqm"
      }
    },
    {
      "cell_type": "code",
      "source": [
        "chat = model.start_chat(history = [])"
      ],
      "metadata": {
        "id": "5wjdyABztWyK"
      },
      "execution_count": 32,
      "outputs": []
    },
    {
      "cell_type": "markdown",
      "source": [
        "**9. Customizing user interaction with the chat**"
      ],
      "metadata": {
        "id": "SQl3XCEuIrRs"
      }
    },
    {
      "cell_type": "code",
      "source": [
        "\n",
        "# HMI Elements\n",
        "print('Hey! Welcome to ChatBot!','\\n')\n",
        "print('Type your message and press the send button','\\n')\n",
        "\n",
        "message_box = widgets.Output()\n",
        "input_box = widgets.Text(placeholder = 'Type your message here')\n",
        "send_button = widgets.Button(description ='Send')\n",
        "\n",
        "# Function to send message\n",
        "def send_message(button):\n",
        "    message = input_box.value\n",
        "    input_box.value = ''\n",
        "\n",
        "    if message:\n",
        "        with message_box:\n",
        "            print('You: ' + message, '\\n')\n",
        "\n",
        "        response = chat.send_message(message)\n",
        "        with message_box:\n",
        "            print(\"ChatBot: \" + response.text, '\\n')\n",
        "\n",
        "# Starting the chat\n",
        "send_button.on_click(send_message)\n",
        "display(message_box)\n",
        "display(input_box)\n",
        "display(send_button)\n"
      ],
      "metadata": {
        "id": "hNo-4aZhTvR8",
        "colab": {
          "base_uri": "https://localhost:8080/",
          "height": 150,
          "referenced_widgets": [
            "743a142ba7ae49368a95208e108a7001",
            "6f75c91cfe1d47e9881289a5d6705e5a",
            "af778cd4e2a34e6f89f8a924e32665bb",
            "335e4f2fa0f6416fa5bd0707f3588f69",
            "5b1004015a01459daf13de2e35a2bb69",
            "170a44836ea447fb802bf17733f30c7f",
            "7e184aac111d4ac1ad597415efa172b5",
            "1893d21c24b2424794744ab2e07ee1f9"
          ]
        },
        "outputId": "e4068faf-19eb-43be-808e-f671202507e7"
      },
      "execution_count": 33,
      "outputs": [
        {
          "output_type": "stream",
          "name": "stdout",
          "text": [
            "Hey! Welcome to ChatBot! \n",
            "\n",
            "Type your message and press the send button \n",
            "\n"
          ]
        },
        {
          "output_type": "display_data",
          "data": {
            "text/plain": [
              "Output()"
            ],
            "application/vnd.jupyter.widget-view+json": {
              "version_major": 2,
              "version_minor": 0,
              "model_id": "743a142ba7ae49368a95208e108a7001"
            }
          },
          "metadata": {}
        },
        {
          "output_type": "display_data",
          "data": {
            "text/plain": [
              "Text(value='', placeholder='Type your message here')"
            ],
            "application/vnd.jupyter.widget-view+json": {
              "version_major": 2,
              "version_minor": 0,
              "model_id": "af778cd4e2a34e6f89f8a924e32665bb"
            }
          },
          "metadata": {}
        },
        {
          "output_type": "display_data",
          "data": {
            "text/plain": [
              "Button(description='Send', style=ButtonStyle())"
            ],
            "application/vnd.jupyter.widget-view+json": {
              "version_major": 2,
              "version_minor": 0,
              "model_id": "170a44836ea447fb802bf17733f30c7f"
            }
          },
          "metadata": {}
        }
      ]
    }
  ]
}